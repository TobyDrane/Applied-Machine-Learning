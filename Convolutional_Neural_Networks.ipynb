{
  "nbformat": 4,
  "nbformat_minor": 0,
  "metadata": {
    "colab": {
      "name": "Convolutional Neural Networks.ipynb",
      "provenance": [],
      "collapsed_sections": [],
      "toc_visible": true,
      "authorship_tag": "ABX9TyNECTC6mE071FsS7Ef0IXlY",
      "include_colab_link": true
    },
    "kernelspec": {
      "name": "python3",
      "display_name": "Python 3"
    },
    "accelerator": "GPU"
  },
  "cells": [
    {
      "cell_type": "markdown",
      "metadata": {
        "id": "view-in-github",
        "colab_type": "text"
      },
      "source": [
        "<a href=\"https://colab.research.google.com/github/TobyDrane/Applied-Machine-Learning/blob/main/Convolutional_Neural_Networks.ipynb\" target=\"_parent\"><img src=\"https://colab.research.google.com/assets/colab-badge.svg\" alt=\"Open In Colab\"/></a>"
      ]
    },
    {
      "cell_type": "markdown",
      "metadata": {
        "id": "zL8wLeJKUKA8"
      },
      "source": [
        "# A playground for Convolutional Neural Networks"
      ]
    },
    {
      "cell_type": "code",
      "metadata": {
        "id": "7f13QXfHUFJv"
      },
      "source": [
        "import numpy as np\n",
        "\n",
        "from sklearn.model_selection import train_test_split\n",
        "from sklearn.metrics import classification_report\n",
        "\n",
        "import tensorflow as tf\n",
        "from tensorflow.python import keras\n",
        "from tensorflow.python.keras.models import Sequential\n",
        "from tensorflow.python.keras.layers import Dense, Flatten, Conv2D, MaxPooling2D, Dropout\n",
        "\n",
        "import seaborn as sns\n",
        "import matplotlib.pyplot as plt\n",
        "%matplotlib inline\n",
        "plt.style.use('seaborn-colorblind')"
      ],
      "execution_count": 16,
      "outputs": []
    },
    {
      "cell_type": "markdown",
      "metadata": {
        "id": "R1G9amGBVMNa"
      },
      "source": [
        "## Fashion-MNIST\n",
        "\n",
        "Explore the use of a basic CNN to predict the images from the classic Fashion-MNIST dataset."
      ]
    },
    {
      "cell_type": "markdown",
      "metadata": {
        "id": "iXWWG8fMWbfj"
      },
      "source": [
        "### Load Dataset\n"
      ]
    },
    {
      "cell_type": "code",
      "metadata": {
        "colab": {
          "base_uri": "https://localhost:8080/"
        },
        "id": "OiCre7p8V-AB",
        "outputId": "b3c22517-380f-4368-9937-97883e66d1cb"
      },
      "source": [
        "fashion_mnist = tf.keras.datasets.fashion_mnist\n",
        "(train_images, train_labels), (test_images, test_labels) = fashion_mnist.load_data()\n",
        "\n",
        "# Since each image has a mapping to it's category but that label is currently in \n",
        "# numerical form, we need to perform the mapping to that at their class name\n",
        "label_classes = {\n",
        "    0: 'T-shirt/top',\n",
        "    1: 'Trouser',\n",
        "    2: 'Pullover',\n",
        "    3: 'Dress',\n",
        "    4: 'Coat',\n",
        "    5: 'Sandal',\n",
        "    6: 'Shirt',\n",
        "    7: 'Sneaker',\n",
        "    8: 'Bag',\n",
        "    9: 'Ankle boot'\n",
        "}\n",
        "\n",
        "# Print the shape of the train dataset\n",
        "print('TRAIN IMAGE SIZE ->', train_images.shape)\n",
        "print('TRAIN IMAGE CLASS SIZE ->', test_labels.shape)\n",
        "\n",
        "# Print the shape of the test dataset\n",
        "print('TEST IMAGE SIZE ->', test_images.shape)\n",
        "print('TEST IMAGE CLASS SIZE ->', test_labels.shape)\n",
        "print('\\n\\n')\n",
        "\n",
        "# Print the how many images of each class we have\n",
        "def show_class_distribution(data):\n",
        "  class_counts = np.zeros(9)\n",
        "  total_size = data.shape[0]\n",
        "\n",
        "  for i in range(class_counts.shape[0]):\n",
        "    class_counts[i] = np.count_nonzero(data == i)\n",
        "    percentage = (class_counts[i] / total_size) * 100\n",
        "    label = label_classes[i]\n",
        "    print('{:<20s}:   {} or {}%'.format(label, class_counts[i], percentage))\n",
        "\n",
        "show_class_distribution(train_labels)"
      ],
      "execution_count": 3,
      "outputs": [
        {
          "output_type": "stream",
          "text": [
            "TRAIN IMAGE SIZE -> (60000, 28, 28)\n",
            "TRAIN IMAGE CLASS SIZE -> (10000,)\n",
            "TEST IMAGE SIZE -> (10000, 28, 28)\n",
            "TEST IMAGE CLASS SIZE -> (10000,)\n",
            "\n",
            "\n",
            "\n",
            "T-shirt/top         :   6000.0 or 10.0%\n",
            "Trouser             :   6000.0 or 10.0%\n",
            "Pullover            :   6000.0 or 10.0%\n",
            "Dress               :   6000.0 or 10.0%\n",
            "Coat                :   6000.0 or 10.0%\n",
            "Sandal              :   6000.0 or 10.0%\n",
            "Shirt               :   6000.0 or 10.0%\n",
            "Sneaker             :   6000.0 or 10.0%\n",
            "Bag                 :   6000.0 or 10.0%\n"
          ],
          "name": "stdout"
        }
      ]
    },
    {
      "cell_type": "markdown",
      "metadata": {
        "id": "vtexc590XwyZ"
      },
      "source": [
        "We currently have an issue with our images being in the pixel value range 0 to 255. Our model requires the images to be scaled to a value in the range of 0 to 1 before feeding them. Thus normalize the images."
      ]
    },
    {
      "cell_type": "code",
      "metadata": {
        "colab": {
          "base_uri": "https://localhost:8080/",
          "height": 517
        },
        "id": "xr9X1Yj_WWtX",
        "outputId": "99115f2c-a95e-4e70-9906-27f6a798f859"
      },
      "source": [
        "# Plot a single image\n",
        "def plot_single_image(image, to_grayscale = True):\n",
        "  plt.figure()\n",
        "  if to_grayscale:\n",
        "    plt.imshow(image, cmap=plt.cm.binary)\n",
        "  else:\n",
        "    plt.imshow(image)\n",
        "  plt.colorbar()\n",
        "  plt.grid(False)\n",
        "  plt.show()\n",
        "\n",
        "# Show the original image\n",
        "plot_single_image(train_images[20], to_grayscale = False)\n",
        "\n",
        "# Normalize the images\n",
        "train_images = train_images / 255.0\n",
        "test_images = test_images / 255.0\n",
        "\n",
        "# Now show same image but hopefully normalized\n",
        "plot_single_image(train_images[20])"
      ],
      "execution_count": 17,
      "outputs": [
        {
          "output_type": "display_data",
          "data": {
            "image/png": "[encoded data removed]",
            "text/plain": [
              "<Figure size 432x288 with 2 Axes>"
            ]
          },
          "metadata": {
            "tags": [],
            "needs_background": "light"
          }
        },
        {
          "output_type": "display_data",
          "data": {
            "image/png": "[encoded data removed]",
            "text/plain": [
              "<Figure size 432x288 with 2 Axes>"
            ]
          },
          "metadata": {
            "tags": [],
            "needs_background": "light"
          }
        }
      ]
    },
    {
      "cell_type": "markdown",
      "metadata": {
        "id": "boDxrtyDcZc_"
      },
      "source": [
        "### Build the CNN Model\n",
        "\n",
        "Okay so we are now good to go and build the actual CNN model. The structure of the network is described below:\n",
        "\n",
        "1. Conv2D:\n",
        "  * Filters = 64\n",
        "  * Kernel size = 7 x 7\n",
        "  * Stride = 1\n",
        "  * Activation = ReLU\n",
        "  * Input shape 28 x 28 x 1\n",
        "2. MaxPooling2D:\n",
        "  * Pool Size = 2 x 2 (downscales the image by a factor of 2)\n",
        "3. Conv2D:\n",
        "  * Filters = 128\n",
        "  * Kernl size = 3 x 3\n",
        "  * Activation = ReLU\n",
        "4. Conv2D:\n",
        "  * Filters = 128\n",
        "  * Kernl size = 3 x 3\n",
        "  * Activation = ReLU\n",
        "5. MaxPooling2D:\n",
        "  * Pool Size = 2 x 2\n",
        "6. Conv2D:\n",
        "  * Filters = 256\n",
        "  * Kernl size = 3 x 3\n",
        "  * Activation = ReLU\n",
        "7. Conv2D:\n",
        "  * Filters = 256\n",
        "  * Kernl size = 3 x 3\n",
        "  * Activation = ReLU\n",
        "8. MaxPooling2D:\n",
        "  * Pool Size = 2 x 2\n",
        "9. Flatten: This flattens the output of the CNN layers before from the 2D shape to a 1D shape that is required for the MLP to come next\n",
        "10. Dense: First layer of our fully connected network to retrieve the output\n",
        "  * Neurons = 128\n",
        "  * Activation = ReLU\n",
        "11. Dense:\n",
        "  * Neurons = 64\n",
        "  * Activation = ReLU\n",
        "12. Dense:\n",
        "  * Neurons = 10\n",
        "  * Activation = SoftMax\n"
      ]
    },
    {
      "cell_type": "code",
      "metadata": {
        "id": "IYxUwWVoXgKj"
      },
      "source": [
        "def create_CNN_model():\n",
        "  # Create the model\n",
        "  model = Sequential([\n",
        "    Conv2D(64, kernel_size=(7, 7), activation='relu', input_shape=[28, 28, 1], padding='same'),\n",
        "    MaxPooling2D((2, 2)),\n",
        "    Conv2D(128, kernel_size=(3, 3), activation='relu', padding='same'),\n",
        "    Conv2D(128, kernel_size=(3, 3), activation='relu', padding='same'),\n",
        "    MaxPooling2D((2, 2)),\n",
        "    Conv2D(256, kernel_size=(3, 3), activation='relu', padding='same'),\n",
        "    Conv2D(256, kernel_size=(3, 3), activation='relu', padding='same'),\n",
        "    MaxPooling2D((2, 2)),\n",
        "    Flatten(),\n",
        "    Dense(128, activation='relu'),\n",
        "    Dropout(0.5),\n",
        "    Dense(64, activation='relu'),\n",
        "    Dropout(0.5),\n",
        "    Dense(10, activation='softmax')\n",
        "  ])\n",
        "\n",
        "  return model"
      ],
      "execution_count": 5,
      "outputs": []
    },
    {
      "cell_type": "code",
      "metadata": {
        "colab": {
          "base_uri": "https://localhost:8080/"
        },
        "id": "3koNd5Fef7Cy",
        "outputId": "891528f7-7809-42d0-b97f-74722df726b6"
      },
      "source": [
        "model = create_CNN_model()\n",
        "model.compile(loss=keras.losses.categorical_crossentropy,\n",
        "              optimizer='adam',\n",
        "              metrics=['accuracy'])\n",
        "\n",
        "# Check the model was created properly\n",
        "model.summary()"
      ],
      "execution_count": 6,
      "outputs": [
        {
          "output_type": "stream",
          "text": [
            "Model: \"sequential\"\n",
            "_________________________________________________________________\n",
            "Layer (type)                 Output Shape              Param #   \n",
            "=================================================================\n",
            "conv2d (Conv2D)              (None, 28, 28, 64)        3200      \n",
            "_________________________________________________________________\n",
            "max_pooling2d (MaxPooling2D) (None, 14, 14, 64)        0         \n",
            "_________________________________________________________________\n",
            "conv2d_1 (Conv2D)            (None, 14, 14, 128)       73856     \n",
            "_________________________________________________________________\n",
            "conv2d_2 (Conv2D)            (None, 14, 14, 128)       147584    \n",
            "_________________________________________________________________\n",
            "max_pooling2d_1 (MaxPooling2 (None, 7, 7, 128)         0         \n",
            "_________________________________________________________________\n",
            "conv2d_3 (Conv2D)            (None, 7, 7, 256)         295168    \n",
            "_________________________________________________________________\n",
            "conv2d_4 (Conv2D)            (None, 7, 7, 256)         590080    \n",
            "_________________________________________________________________\n",
            "max_pooling2d_2 (MaxPooling2 (None, 3, 3, 256)         0         \n",
            "_________________________________________________________________\n",
            "flatten (Flatten)            (None, 2304)              0         \n",
            "_________________________________________________________________\n",
            "dense (Dense)                (None, 128)               295040    \n",
            "_________________________________________________________________\n",
            "dropout (Dropout)            (None, 128)               0         \n",
            "_________________________________________________________________\n",
            "dense_1 (Dense)              (None, 64)                8256      \n",
            "_________________________________________________________________\n",
            "dropout_1 (Dropout)          (None, 64)                0         \n",
            "_________________________________________________________________\n",
            "dense_2 (Dense)              (None, 10)                650       \n",
            "=================================================================\n",
            "Total params: 1,413,834\n",
            "Trainable params: 1,413,834\n",
            "Non-trainable params: 0\n",
            "_________________________________________________________________\n"
          ],
          "name": "stdout"
        }
      ]
    },
    {
      "cell_type": "markdown",
      "metadata": {
        "id": "S3sw-djVgm0q"
      },
      "source": [
        "### Train the model with training data"
      ]
    },
    {
      "cell_type": "code",
      "metadata": {
        "colab": {
          "base_uri": "https://localhost:8080/"
        },
        "id": "ZAdpo3hNn_XA",
        "outputId": "56acd2f1-a618-4bdb-aa15-b75222443ef1"
      },
      "source": [
        "# Handle some data pre-processing\n",
        "# First need to reshape into (n, 28, 28, 1) that is required for the CNN\n",
        "def reshape_input(data):\n",
        "  shape = data.shape\n",
        "  ns = shape[0]\n",
        "  rows = shape[1]\n",
        "  cols = shape[2]\n",
        "\n",
        "  return data.reshape(ns, rows, cols, 1)\n",
        "\n",
        "def reshape_input_labels(data):\n",
        "  number_classes = 10\n",
        "  return tf.keras.utils.to_categorical(data, number_classes)\n",
        "\n",
        "X = reshape_input(train_images)\n",
        "Y = reshape_input_labels(train_labels)\n",
        "X_test = reshape_input(test_images)\n",
        "Y_test = reshape_input_labels(test_labels)\n",
        "\n",
        "# Now split into a validation and test set\n",
        "X_train, X_val, Y_train, Y_val = train_test_split(X, Y, test_size = 0.2, random_state = 42)\n",
        "\n",
        "print(X_train.shape)\n",
        "print(X_val.shape)"
      ],
      "execution_count": 9,
      "outputs": [
        {
          "output_type": "stream",
          "text": [
            "(48000, 28, 28, 1)\n",
            "(12000, 28, 28, 1)\n"
          ],
          "name": "stdout"
        }
      ]
    },
    {
      "cell_type": "code",
      "metadata": {
        "colab": {
          "base_uri": "https://localhost:8080/"
        },
        "id": "klGFGrRdglTx",
        "outputId": "9e2d4c98-f5ca-4c7e-e978-73ebe858a58b"
      },
      "source": [
        "EPOCHS = 50\n",
        "\n",
        "trained_model = model.fit(\n",
        "    X_train,\n",
        "    Y_train,\n",
        "    validation_data = (X_val, Y_val),\n",
        "    batch_size = 128,\n",
        "    epochs = EPOCHS,\n",
        "    verbose=1\n",
        "  )"
      ],
      "execution_count": 8,
      "outputs": [
        {
          "output_type": "stream",
          "text": [
            "Epoch 1/50\n",
            "375/375 [==============================] - 12s 23ms/step - loss: 1.3225 - accuracy: 0.5224 - val_loss: 0.4591 - val_accuracy: 0.8421\n",
            "Epoch 2/50\n",
            "375/375 [==============================] - 8s 22ms/step - loss: 0.5274 - accuracy: 0.8171 - val_loss: 0.3670 - val_accuracy: 0.8677\n",
            "Epoch 3/50\n",
            "375/375 [==============================] - 8s 22ms/step - loss: 0.4168 - accuracy: 0.8585 - val_loss: 0.3119 - val_accuracy: 0.8797\n",
            "Epoch 4/50\n",
            "375/375 [==============================] - 8s 22ms/step - loss: 0.3590 - accuracy: 0.8770 - val_loss: 0.2922 - val_accuracy: 0.8971\n",
            "Epoch 5/50\n",
            "375/375 [==============================] - 8s 22ms/step - loss: 0.3251 - accuracy: 0.8884 - val_loss: 0.2774 - val_accuracy: 0.8991\n",
            "Epoch 6/50\n",
            "375/375 [==============================] - 8s 22ms/step - loss: 0.2922 - accuracy: 0.9014 - val_loss: 0.2624 - val_accuracy: 0.9082\n",
            "Epoch 7/50\n",
            "375/375 [==============================] - 8s 22ms/step - loss: 0.2841 - accuracy: 0.9056 - val_loss: 0.2581 - val_accuracy: 0.9072\n",
            "Epoch 8/50\n",
            "375/375 [==============================] - 8s 22ms/step - loss: 0.2497 - accuracy: 0.9140 - val_loss: 0.2452 - val_accuracy: 0.9117\n",
            "Epoch 9/50\n",
            "375/375 [==============================] - 8s 22ms/step - loss: 0.2385 - accuracy: 0.9211 - val_loss: 0.2625 - val_accuracy: 0.9104\n",
            "Epoch 10/50\n",
            "375/375 [==============================] - 8s 22ms/step - loss: 0.2246 - accuracy: 0.9250 - val_loss: 0.2646 - val_accuracy: 0.9136\n",
            "Epoch 11/50\n",
            "375/375 [==============================] - 8s 22ms/step - loss: 0.2000 - accuracy: 0.9315 - val_loss: 0.2514 - val_accuracy: 0.9158\n",
            "Epoch 12/50\n",
            "375/375 [==============================] - 8s 22ms/step - loss: 0.1927 - accuracy: 0.9357 - val_loss: 0.2374 - val_accuracy: 0.9208\n",
            "Epoch 13/50\n",
            "375/375 [==============================] - 8s 22ms/step - loss: 0.1702 - accuracy: 0.9417 - val_loss: 0.2556 - val_accuracy: 0.9192\n",
            "Epoch 14/50\n",
            "375/375 [==============================] - 8s 22ms/step - loss: 0.1588 - accuracy: 0.9453 - val_loss: 0.2718 - val_accuracy: 0.9210\n",
            "Epoch 15/50\n",
            "375/375 [==============================] - 8s 22ms/step - loss: 0.1565 - accuracy: 0.9492 - val_loss: 0.2867 - val_accuracy: 0.9182\n",
            "Epoch 16/50\n",
            "375/375 [==============================] - 8s 22ms/step - loss: 0.1342 - accuracy: 0.9545 - val_loss: 0.3007 - val_accuracy: 0.9123\n",
            "Epoch 17/50\n",
            "375/375 [==============================] - 8s 22ms/step - loss: 0.1369 - accuracy: 0.9546 - val_loss: 0.2824 - val_accuracy: 0.9203\n",
            "Epoch 18/50\n",
            "375/375 [==============================] - 8s 22ms/step - loss: 0.1221 - accuracy: 0.9582 - val_loss: 0.2960 - val_accuracy: 0.9185\n",
            "Epoch 19/50\n",
            "375/375 [==============================] - 8s 22ms/step - loss: 0.1136 - accuracy: 0.9621 - val_loss: 0.3076 - val_accuracy: 0.9195\n",
            "Epoch 20/50\n",
            "375/375 [==============================] - 8s 22ms/step - loss: 0.0995 - accuracy: 0.9660 - val_loss: 0.3048 - val_accuracy: 0.9190\n",
            "Epoch 21/50\n",
            "375/375 [==============================] - 8s 22ms/step - loss: 0.0995 - accuracy: 0.9664 - val_loss: 0.3337 - val_accuracy: 0.9153\n",
            "Epoch 22/50\n",
            "375/375 [==============================] - 8s 22ms/step - loss: 0.0989 - accuracy: 0.9685 - val_loss: 0.3581 - val_accuracy: 0.9152\n",
            "Epoch 23/50\n",
            "375/375 [==============================] - 8s 22ms/step - loss: 0.0875 - accuracy: 0.9707 - val_loss: 0.3433 - val_accuracy: 0.9220\n",
            "Epoch 24/50\n",
            "375/375 [==============================] - 8s 22ms/step - loss: 0.0759 - accuracy: 0.9734 - val_loss: 0.3614 - val_accuracy: 0.9174\n",
            "Epoch 25/50\n",
            "375/375 [==============================] - 8s 22ms/step - loss: 0.0689 - accuracy: 0.9772 - val_loss: 0.3798 - val_accuracy: 0.9187\n",
            "Epoch 26/50\n",
            "375/375 [==============================] - 8s 22ms/step - loss: 0.0796 - accuracy: 0.9737 - val_loss: 0.3962 - val_accuracy: 0.9197\n",
            "Epoch 27/50\n",
            "375/375 [==============================] - 8s 22ms/step - loss: 0.0698 - accuracy: 0.9776 - val_loss: 0.3789 - val_accuracy: 0.9170\n",
            "Epoch 28/50\n",
            "375/375 [==============================] - 8s 22ms/step - loss: 0.0743 - accuracy: 0.9768 - val_loss: 0.3834 - val_accuracy: 0.9196\n",
            "Epoch 29/50\n",
            "375/375 [==============================] - 8s 22ms/step - loss: 0.0633 - accuracy: 0.9811 - val_loss: 0.3728 - val_accuracy: 0.9189\n",
            "Epoch 30/50\n",
            "375/375 [==============================] - 8s 22ms/step - loss: 0.0580 - accuracy: 0.9811 - val_loss: 0.4512 - val_accuracy: 0.9194\n",
            "Epoch 31/50\n",
            "375/375 [==============================] - 8s 22ms/step - loss: 0.0592 - accuracy: 0.9812 - val_loss: 0.3914 - val_accuracy: 0.9237\n",
            "Epoch 32/50\n",
            "375/375 [==============================] - 8s 22ms/step - loss: 0.0558 - accuracy: 0.9829 - val_loss: 0.4839 - val_accuracy: 0.9179\n",
            "Epoch 33/50\n",
            "375/375 [==============================] - 8s 22ms/step - loss: 0.0515 - accuracy: 0.9838 - val_loss: 0.4815 - val_accuracy: 0.9203\n",
            "Epoch 34/50\n",
            "375/375 [==============================] - 8s 22ms/step - loss: 0.0468 - accuracy: 0.9850 - val_loss: 0.4505 - val_accuracy: 0.9210\n",
            "Epoch 35/50\n",
            "375/375 [==============================] - 8s 22ms/step - loss: 0.0436 - accuracy: 0.9860 - val_loss: 0.4669 - val_accuracy: 0.9187\n",
            "Epoch 36/50\n",
            "375/375 [==============================] - 8s 22ms/step - loss: 0.0493 - accuracy: 0.9839 - val_loss: 0.4943 - val_accuracy: 0.9173\n",
            "Epoch 37/50\n",
            "375/375 [==============================] - 8s 22ms/step - loss: 0.0567 - accuracy: 0.9832 - val_loss: 0.4977 - val_accuracy: 0.9200\n",
            "Epoch 38/50\n",
            "375/375 [==============================] - 8s 22ms/step - loss: 0.0525 - accuracy: 0.9831 - val_loss: 0.4719 - val_accuracy: 0.9203\n",
            "Epoch 39/50\n",
            "375/375 [==============================] - 8s 22ms/step - loss: 0.0406 - accuracy: 0.9878 - val_loss: 0.4928 - val_accuracy: 0.9188\n",
            "Epoch 40/50\n",
            "375/375 [==============================] - 8s 22ms/step - loss: 0.0429 - accuracy: 0.9868 - val_loss: 0.5246 - val_accuracy: 0.9197\n",
            "Epoch 41/50\n",
            "375/375 [==============================] - 8s 22ms/step - loss: 0.0468 - accuracy: 0.9870 - val_loss: 0.5232 - val_accuracy: 0.9178\n",
            "Epoch 42/50\n",
            "375/375 [==============================] - 8s 22ms/step - loss: 0.0470 - accuracy: 0.9861 - val_loss: 0.5493 - val_accuracy: 0.9186\n",
            "Epoch 43/50\n",
            "375/375 [==============================] - 8s 22ms/step - loss: 0.0348 - accuracy: 0.9898 - val_loss: 0.5293 - val_accuracy: 0.9204\n",
            "Epoch 44/50\n",
            "375/375 [==============================] - 8s 22ms/step - loss: 0.0404 - accuracy: 0.9870 - val_loss: 0.5879 - val_accuracy: 0.9204\n",
            "Epoch 45/50\n",
            "375/375 [==============================] - 8s 22ms/step - loss: 0.0375 - accuracy: 0.9887 - val_loss: 0.4480 - val_accuracy: 0.9203\n",
            "Epoch 46/50\n",
            "375/375 [==============================] - 8s 22ms/step - loss: 0.0354 - accuracy: 0.9890 - val_loss: 0.5748 - val_accuracy: 0.9217\n",
            "Epoch 47/50\n",
            "375/375 [==============================] - 8s 22ms/step - loss: 0.0451 - accuracy: 0.9883 - val_loss: 0.5395 - val_accuracy: 0.9183\n",
            "Epoch 48/50\n",
            "375/375 [==============================] - 8s 22ms/step - loss: 0.0434 - accuracy: 0.9866 - val_loss: 0.5556 - val_accuracy: 0.9181\n",
            "Epoch 49/50\n",
            "375/375 [==============================] - 8s 22ms/step - loss: 0.0351 - accuracy: 0.9887 - val_loss: 0.6145 - val_accuracy: 0.9237\n",
            "Epoch 50/50\n",
            "375/375 [==============================] - 8s 22ms/step - loss: 0.0339 - accuracy: 0.9907 - val_loss: 0.5870 - val_accuracy: 0.9174\n"
          ],
          "name": "stdout"
        }
      ]
    },
    {
      "cell_type": "markdown",
      "metadata": {
        "id": "Sn-YlPHhyjaQ"
      },
      "source": [
        "### Test the model with testing data\n"
      ]
    },
    {
      "cell_type": "code",
      "metadata": {
        "colab": {
          "base_uri": "https://localhost:8080/"
        },
        "id": "A0Ztc_IOhArS",
        "outputId": "aaf16814-90e5-4e9b-f36e-2ea650b6c5e1"
      },
      "source": [
        "# Test the model\n",
        "score = model.evaluate(X_test, Y_test, verbose=0)\n",
        "\n",
        "print('Test loss:', score[0])\n",
        "print('Test accuracy:', score[1])"
      ],
      "execution_count": 10,
      "outputs": [
        {
          "output_type": "stream",
          "text": [
            "Test loss: 0.6488592028617859\n",
            "Test accuracy: 0.9085999727249146\n"
          ],
          "name": "stdout"
        }
      ]
    },
    {
      "cell_type": "code",
      "metadata": {
        "colab": {
          "base_uri": "https://localhost:8080/",
          "height": 350
        },
        "id": "wmVK-bO4yxGd",
        "outputId": "501159ad-5c53-466f-fdc0-39577f74f2fc"
      },
      "source": [
        "def plot_model_loss_accuracy(model):\n",
        "  history = model.history\n",
        "\n",
        "  fig, axs = plt.subplots(1,2,figsize=(15,5)) \n",
        "\n",
        "  # Model accuracy  \n",
        "  axs[0].plot(history['accuracy']) \n",
        "  axs[0].plot(history['val_accuracy']) \n",
        "  axs[0].set_title('Model Accuracy')\n",
        "  axs[0].set_ylabel('Accuracy') \n",
        "  axs[0].set_xlabel('Epoch')\n",
        "  axs[0].legend(['train', 'validate'], loc='upper left')\n",
        "  \n",
        "  # Model loss\n",
        "  axs[1].plot(history['loss']) \n",
        "  axs[1].plot(history['val_loss']) \n",
        "  axs[1].set_title('Model Loss')\n",
        "  axs[1].set_ylabel('Loss') \n",
        "  axs[1].set_xlabel('Epoch')\n",
        "  axs[1].legend(['train', 'validate'], loc='upper left')\n",
        "\n",
        "  plt.show()\n",
        "\n",
        "# Plot\n",
        "plot_model_loss_accuracy(trained_model)"
      ],
      "execution_count": 18,
      "outputs": [
        {
          "output_type": "display_data",
          "data": {
            "image/png": "[encoded data removed]",
            "text/plain": [
              "<Figure size 1080x360 with 2 Axes>"
            ]
          },
          "metadata": {
            "tags": [],
            "needs_background": "light"
          }
        }
      ]
    }
  ]
}
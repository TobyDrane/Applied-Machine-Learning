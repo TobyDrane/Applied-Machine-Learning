{
  "nbformat": 4,
  "nbformat_minor": 0,
  "metadata": {
    "colab": {
      "name": "Convolutional Neural Networks.ipynb",
      "provenance": [],
      "collapsed_sections": [],
      "toc_visible": true,
      "authorship_tag": "ABX9TyPhZd5MGVYDjjgW9gZNBQur",
      "include_colab_link": true
    },
    "kernelspec": {
      "name": "python3",
      "display_name": "Python 3"
    },
    "accelerator": "GPU"
  },
  "cells": [
    {
      "cell_type": "markdown",
      "metadata": {
        "id": "view-in-github",
        "colab_type": "text"
      },
      "source": [
        "<a href=\"https://colab.research.google.com/github/TobyDrane/Applied-Machine-Learning/blob/main/Convolutional_Neural_Networks.ipynb\" target=\"_parent\"><img src=\"https://colab.research.google.com/assets/colab-badge.svg\" alt=\"Open In Colab\"/></a>"
      ]
    },
    {
      "cell_type": "markdown",
      "metadata": {
        "id": "zL8wLeJKUKA8"
      },
      "source": [
        "# A playground for Convolutional Neural Networks\n",
        "\n",
        "We shall explore a very basic first convolutional neural network then go on to explore further algorithms such as LeNet-5."
      ]
    },
    {
      "cell_type": "code",
      "metadata": {
        "id": "7f13QXfHUFJv"
      },
      "source": [
        "import numpy as np\n",
        "\n",
        "from sklearn.model_selection import train_test_split\n",
        "from sklearn.metrics import classification_report\n",
        "\n",
        "import tensorflow as tf\n",
        "from tensorflow.python import keras\n",
        "from tensorflow.python.keras.models import Sequential\n",
        "from tensorflow.python.keras.layers import Dense, Flatten, Conv2D, MaxPooling2D, Dropout, AvgPool2D\n",
        "\n",
        "import seaborn as sns\n",
        "import matplotlib.pyplot as plt\n",
        "%matplotlib inline\n",
        "plt.style.use('seaborn-colorblind')"
      ],
      "execution_count": null,
      "outputs": []
    },
    {
      "cell_type": "markdown",
      "metadata": {
        "id": "R1G9amGBVMNa"
      },
      "source": [
        "## Fashion-MNIST\n",
        "\n",
        "Explore the use of a basic CNN to predict the images from the classic Fashion-MNIST dataset."
      ]
    },
    {
      "cell_type": "markdown",
      "metadata": {
        "id": "iXWWG8fMWbfj"
      },
      "source": [
        "### Load Dataset\n"
      ]
    },
    {
      "cell_type": "code",
      "metadata": {
        "colab": {
          "base_uri": "https://localhost:8080/"
        },
        "id": "OiCre7p8V-AB",
        "outputId": "22eb79cf-9b86-46d9-f334-965a88e182c7"
      },
      "source": [
        "fashion_mnist = tf.keras.datasets.fashion_mnist\n",
        "(train_images, train_labels), (test_images, test_labels) = fashion_mnist.load_data()\n",
        "\n",
        "# Since each image has a mapping to it's category but that label is currently in \n",
        "# numerical form, we need to perform the mapping to that at their class name\n",
        "label_classes = {\n",
        "    0: 'T-shirt/top',\n",
        "    1: 'Trouser',\n",
        "    2: 'Pullover',\n",
        "    3: 'Dress',\n",
        "    4: 'Coat',\n",
        "    5: 'Sandal',\n",
        "    6: 'Shirt',\n",
        "    7: 'Sneaker',\n",
        "    8: 'Bag',\n",
        "    9: 'Ankle boot'\n",
        "}\n",
        "\n",
        "# Print the shape of the train dataset\n",
        "print('TRAIN IMAGE SIZE ->', train_images.shape)\n",
        "print('TRAIN IMAGE CLASS SIZE ->', test_labels.shape)\n",
        "\n",
        "# Print the shape of the test dataset\n",
        "print('TEST IMAGE SIZE ->', test_images.shape)\n",
        "print('TEST IMAGE CLASS SIZE ->', test_labels.shape)\n",
        "print('\\n\\n')\n",
        "\n",
        "# Print the how many images of each class we have\n",
        "def show_class_distribution(data):\n",
        "  class_counts = np.zeros(9)\n",
        "  total_size = data.shape[0]\n",
        "\n",
        "  for i in range(class_counts.shape[0]):\n",
        "    class_counts[i] = np.count_nonzero(data == i)\n",
        "    percentage = (class_counts[i] / total_size) * 100\n",
        "    label = label_classes[i]\n",
        "    print('{:<20s}:   {} or {}%'.format(label, class_counts[i], percentage))\n",
        "\n",
        "show_class_distribution(train_labels)"
      ],
      "execution_count": null,
      "outputs": [
        {
          "output_type": "stream",
          "text": [
            "Downloading data from https://storage.googleapis.com/tensorflow/tf-keras-datasets/train-labels-idx1-ubyte.gz\n",
            "32768/29515 [=================================] - 0s 0us/step\n",
            "Downloading data from https://storage.googleapis.com/tensorflow/tf-keras-datasets/train-images-idx3-ubyte.gz\n",
            "26427392/26421880 [==============================] - 0s 0us/step\n",
            "Downloading data from https://storage.googleapis.com/tensorflow/tf-keras-datasets/t10k-labels-idx1-ubyte.gz\n",
            "8192/5148 [===============================================] - 0s 0us/step\n",
            "Downloading data from https://storage.googleapis.com/tensorflow/tf-keras-datasets/t10k-images-idx3-ubyte.gz\n",
            "4423680/4422102 [==============================] - 0s 0us/step\n",
            "TRAIN IMAGE SIZE -> (60000, 28, 28)\n",
            "TRAIN IMAGE CLASS SIZE -> (10000,)\n",
            "TEST IMAGE SIZE -> (10000, 28, 28)\n",
            "TEST IMAGE CLASS SIZE -> (10000,)\n",
            "\n",
            "\n",
            "\n",
            "T-shirt/top         :   6000.0 or 10.0%\n",
            "Trouser             :   6000.0 or 10.0%\n",
            "Pullover            :   6000.0 or 10.0%\n",
            "Dress               :   6000.0 or 10.0%\n",
            "Coat                :   6000.0 or 10.0%\n",
            "Sandal              :   6000.0 or 10.0%\n",
            "Shirt               :   6000.0 or 10.0%\n",
            "Sneaker             :   6000.0 or 10.0%\n",
            "Bag                 :   6000.0 or 10.0%\n"
          ],
          "name": "stdout"
        }
      ]
    },
    {
      "cell_type": "markdown",
      "metadata": {
        "id": "vtexc590XwyZ"
      },
      "source": [
        "We currently have an issue with our images being in the pixel value range 0 to 255. Our model requires the images to be scaled to a value in the range of 0 to 1 before feeding them. Thus normalize the images."
      ]
    },
    {
      "cell_type": "code",
      "metadata": {
        "colab": {
          "base_uri": "https://localhost:8080/",
          "height": 517
        },
        "id": "xr9X1Yj_WWtX",
        "outputId": "99115f2c-a95e-4e70-9906-27f6a798f859"
      },
      "source": [
        "# Plot a single image\n",
        "def plot_single_image(image, to_grayscale = True):\n",
        "  plt.figure()\n",
        "  if to_grayscale:\n",
        "    plt.imshow(image, cmap=plt.cm.binary)\n",
        "  else:\n",
        "    plt.imshow(image)\n",
        "  plt.colorbar()\n",
        "  plt.grid(False)\n",
        "  plt.show()\n",
        "\n",
        "# Show the original image\n",
        "plot_single_image(train_images[20], to_grayscale = False)\n",
        "\n",
        "# Normalize the images\n",
        "train_images = train_images / 255.0\n",
        "test_images = test_images / 255.0\n",
        "\n",
        "# Now show same image but hopefully normalized\n",
        "plot_single_image(train_images[20])"
      ],
      "execution_count": null,
      "outputs": [
        {
          "output_type": "display_data",
          "data": {
            "image/png": "[encoded data removed]",
            "text/plain": [
              "<Figure size 432x288 with 2 Axes>"
            ]
          },
          "metadata": {
            "tags": [],
            "needs_background": "light"
          }
        },
        {
          "output_type": "display_data",
          "data": {
            "image/png": "[encoded data removed]",
            "text/plain": [
              "<Figure size 432x288 with 2 Axes>"
            ]
          },
          "metadata": {
            "tags": [],
            "needs_background": "light"
          }
        }
      ]
    },
    {
      "cell_type": "markdown",
      "metadata": {
        "id": "boDxrtyDcZc_"
      },
      "source": [
        "### Build the CNN Model\n",
        "\n",
        "Okay so we are now good to go and build the actual CNN model. The structure of the network is described below:\n",
        "\n",
        "1. Conv2D:\n",
        "  * Filters = 64\n",
        "  * Kernel size = 7 x 7\n",
        "  * Stride = 1\n",
        "  * Activation = ReLU\n",
        "  * Input shape 28 x 28 x 1\n",
        "2. MaxPooling2D:\n",
        "  * Pool Size = 2 x 2 (downscales the image by a factor of 2)\n",
        "3. Conv2D:\n",
        "  * Filters = 128\n",
        "  * Kernl size = 3 x 3\n",
        "  * Activation = ReLU\n",
        "4. Conv2D:\n",
        "  * Filters = 128\n",
        "  * Kernl size = 3 x 3\n",
        "  * Activation = ReLU\n",
        "5. MaxPooling2D:\n",
        "  * Pool Size = 2 x 2\n",
        "6. Conv2D:\n",
        "  * Filters = 256\n",
        "  * Kernl size = 3 x 3\n",
        "  * Activation = ReLU\n",
        "7. Conv2D:\n",
        "  * Filters = 256\n",
        "  * Kernl size = 3 x 3\n",
        "  * Activation = ReLU\n",
        "8. MaxPooling2D:\n",
        "  * Pool Size = 2 x 2\n",
        "9. Flatten: This flattens the output of the CNN layers before from the 2D shape to a 1D shape that is required for the MLP to come next\n",
        "10. Dense: First layer of our fully connected network to retrieve the output\n",
        "  * Neurons = 128\n",
        "  * Activation = ReLU\n",
        "11. Dense:\n",
        "  * Neurons = 64\n",
        "  * Activation = ReLU\n",
        "12. Dense:\n",
        "  * Neurons = 10\n",
        "  * Activation = SoftMax\n"
      ]
    },
    {
      "cell_type": "code",
      "metadata": {
        "id": "IYxUwWVoXgKj"
      },
      "source": [
        "def create_CNN_model():\n",
        "  # Create the model\n",
        "  model = Sequential([\n",
        "    Conv2D(64, kernel_size=(7, 7), activation='relu', input_shape=[28, 28, 1], padding='same'),\n",
        "    MaxPooling2D((2, 2)),\n",
        "    Conv2D(128, kernel_size=(3, 3), activation='relu', padding='same'),\n",
        "    Conv2D(128, kernel_size=(3, 3), activation='relu', padding='same'),\n",
        "    MaxPooling2D((2, 2)),\n",
        "    Conv2D(256, kernel_size=(3, 3), activation='relu', padding='same'),\n",
        "    Conv2D(256, kernel_size=(3, 3), activation='relu', padding='same'),\n",
        "    MaxPooling2D((2, 2)),\n",
        "    Flatten(),\n",
        "    Dense(128, activation='relu'),\n",
        "    Dropout(0.5),\n",
        "    Dense(64, activation='relu'),\n",
        "    Dropout(0.5),\n",
        "    Dense(10, activation='softmax')\n",
        "  ])\n",
        "\n",
        "  return model"
      ],
      "execution_count": null,
      "outputs": []
    },
    {
      "cell_type": "code",
      "metadata": {
        "colab": {
          "base_uri": "https://localhost:8080/"
        },
        "id": "3koNd5Fef7Cy",
        "outputId": "891528f7-7809-42d0-b97f-74722df726b6"
      },
      "source": [
        "model = create_CNN_model()\n",
        "model.compile(loss=keras.losses.categorical_crossentropy,\n",
        "              optimizer='adam',\n",
        "              metrics=['accuracy'])\n",
        "\n",
        "# Check the model was created properly\n",
        "model.summary()"
      ],
      "execution_count": null,
      "outputs": [
        {
          "output_type": "stream",
          "text": [
            "Model: \"sequential\"\n",
            "_________________________________________________________________\n",
            "Layer (type)                 Output Shape              Param #   \n",
            "=================================================================\n",
            "conv2d (Conv2D)              (None, 28, 28, 64)        3200      \n",
            "_________________________________________________________________\n",
            "max_pooling2d (MaxPooling2D) (None, 14, 14, 64)        0         \n",
            "_________________________________________________________________\n",
            "conv2d_1 (Conv2D)            (None, 14, 14, 128)       73856     \n",
            "_________________________________________________________________\n",
            "conv2d_2 (Conv2D)            (None, 14, 14, 128)       147584    \n",
            "_________________________________________________________________\n",
            "max_pooling2d_1 (MaxPooling2 (None, 7, 7, 128)         0         \n",
            "_________________________________________________________________\n",
            "conv2d_3 (Conv2D)            (None, 7, 7, 256)         295168    \n",
            "_________________________________________________________________\n",
            "conv2d_4 (Conv2D)            (None, 7, 7, 256)         590080    \n",
            "_________________________________________________________________\n",
            "max_pooling2d_2 (MaxPooling2 (None, 3, 3, 256)         0         \n",
            "_________________________________________________________________\n",
            "flatten (Flatten)            (None, 2304)              0         \n",
            "_________________________________________________________________\n",
            "dense (Dense)                (None, 128)               295040    \n",
            "_________________________________________________________________\n",
            "dropout (Dropout)            (None, 128)               0         \n",
            "_________________________________________________________________\n",
            "dense_1 (Dense)              (None, 64)                8256      \n",
            "_________________________________________________________________\n",
            "dropout_1 (Dropout)          (None, 64)                0         \n",
            "_________________________________________________________________\n",
            "dense_2 (Dense)              (None, 10)                650       \n",
            "=================================================================\n",
            "Total params: 1,413,834\n",
            "Trainable params: 1,413,834\n",
            "Non-trainable params: 0\n",
            "_________________________________________________________________\n"
          ],
          "name": "stdout"
        }
      ]
    },
    {
      "cell_type": "markdown",
      "metadata": {
        "id": "S3sw-djVgm0q"
      },
      "source": [
        "### Train the model with training data"
      ]
    },
    {
      "cell_type": "code",
      "metadata": {
        "colab": {
          "base_uri": "https://localhost:8080/"
        },
        "id": "ZAdpo3hNn_XA",
        "outputId": "8f2daf66-b1fe-455e-ceb2-5d4d29c6d5cd"
      },
      "source": [
        "# Handle some data pre-processing\n",
        "# First need to reshape into (n, 28, 28, 1) that is required for the CNN\n",
        "def reshape_input(data):\n",
        "  shape = data.shape\n",
        "  ns = shape[0]\n",
        "  rows = shape[1]\n",
        "  cols = shape[2]\n",
        "\n",
        "  return data.reshape(ns, rows, cols, 1)\n",
        "\n",
        "def reshape_input_labels(data):\n",
        "  number_classes = 10\n",
        "  return tf.keras.utils.to_categorical(data, number_classes)\n",
        "\n",
        "X = reshape_input(train_images)\n",
        "Y = reshape_input_labels(train_labels)\n",
        "X_test = reshape_input(test_images)\n",
        "Y_test = reshape_input_labels(test_labels)\n",
        "\n",
        "# Now split into a validation and test set\n",
        "X_train, X_val, Y_train, Y_val = train_test_split(X, Y, test_size = 0.2, random_state = 42)\n",
        "\n",
        "print(X_train.shape)\n",
        "print(X_val.shape)"
      ],
      "execution_count": null,
      "outputs": [
        {
          "output_type": "stream",
          "text": [
            "(48000, 28, 28, 1)\n",
            "(12000, 28, 28, 1)\n"
          ],
          "name": "stdout"
        }
      ]
    },
    {
      "cell_type": "code",
      "metadata": {
        "colab": {
          "base_uri": "https://localhost:8080/"
        },
        "id": "klGFGrRdglTx",
        "outputId": "9e2d4c98-f5ca-4c7e-e978-73ebe858a58b"
      },
      "source": [
        "EPOCHS = 50\n",
        "\n",
        "trained_model = model.fit(\n",
        "    X_train,\n",
        "    Y_train,\n",
        "    validation_data = (X_val, Y_val),\n",
        "    batch_size = 128,\n",
        "    epochs = EPOCHS,\n",
        "    verbose=1\n",
        "  )"
      ],
      "execution_count": null,
      "outputs": [
        {
          "output_type": "stream",
          "text": [
            "Epoch 1/50\n",
            "375/375 [==============================] - 12s 23ms/step - loss: 1.3225 - accuracy: 0.5224 - val_loss: 0.4591 - val_accuracy: 0.8421\n",
            "Epoch 2/50\n",
            "375/375 [==============================] - 8s 22ms/step - loss: 0.5274 - accuracy: 0.8171 - val_loss: 0.3670 - val_accuracy: 0.8677\n",
            "Epoch 3/50\n",
            "375/375 [==============================] - 8s 22ms/step - loss: 0.4168 - accuracy: 0.8585 - val_loss: 0.3119 - val_accuracy: 0.8797\n",
            "Epoch 4/50\n",
            "375/375 [==============================] - 8s 22ms/step - loss: 0.3590 - accuracy: 0.8770 - val_loss: 0.2922 - val_accuracy: 0.8971\n",
            "Epoch 5/50\n",
            "375/375 [==============================] - 8s 22ms/step - loss: 0.3251 - accuracy: 0.8884 - val_loss: 0.2774 - val_accuracy: 0.8991\n",
            "Epoch 6/50\n",
            "375/375 [==============================] - 8s 22ms/step - loss: 0.2922 - accuracy: 0.9014 - val_loss: 0.2624 - val_accuracy: 0.9082\n",
            "Epoch 7/50\n",
            "375/375 [==============================] - 8s 22ms/step - loss: 0.2841 - accuracy: 0.9056 - val_loss: 0.2581 - val_accuracy: 0.9072\n",
            "Epoch 8/50\n",
            "375/375 [==============================] - 8s 22ms/step - loss: 0.2497 - accuracy: 0.9140 - val_loss: 0.2452 - val_accuracy: 0.9117\n",
            "Epoch 9/50\n",
            "375/375 [==============================] - 8s 22ms/step - loss: 0.2385 - accuracy: 0.9211 - val_loss: 0.2625 - val_accuracy: 0.9104\n",
            "Epoch 10/50\n",
            "375/375 [==============================] - 8s 22ms/step - loss: 0.2246 - accuracy: 0.9250 - val_loss: 0.2646 - val_accuracy: 0.9136\n",
            "Epoch 11/50\n",
            "375/375 [==============================] - 8s 22ms/step - loss: 0.2000 - accuracy: 0.9315 - val_loss: 0.2514 - val_accuracy: 0.9158\n",
            "Epoch 12/50\n",
            "375/375 [==============================] - 8s 22ms/step - loss: 0.1927 - accuracy: 0.9357 - val_loss: 0.2374 - val_accuracy: 0.9208\n",
            "Epoch 13/50\n",
            "375/375 [==============================] - 8s 22ms/step - loss: 0.1702 - accuracy: 0.9417 - val_loss: 0.2556 - val_accuracy: 0.9192\n",
            "Epoch 14/50\n",
            "375/375 [==============================] - 8s 22ms/step - loss: 0.1588 - accuracy: 0.9453 - val_loss: 0.2718 - val_accuracy: 0.9210\n",
            "Epoch 15/50\n",
            "375/375 [==============================] - 8s 22ms/step - loss: 0.1565 - accuracy: 0.9492 - val_loss: 0.2867 - val_accuracy: 0.9182\n",
            "Epoch 16/50\n",
            "375/375 [==============================] - 8s 22ms/step - loss: 0.1342 - accuracy: 0.9545 - val_loss: 0.3007 - val_accuracy: 0.9123\n",
            "Epoch 17/50\n",
            "375/375 [==============================] - 8s 22ms/step - loss: 0.1369 - accuracy: 0.9546 - val_loss: 0.2824 - val_accuracy: 0.9203\n",
            "Epoch 18/50\n",
            "375/375 [==============================] - 8s 22ms/step - loss: 0.1221 - accuracy: 0.9582 - val_loss: 0.2960 - val_accuracy: 0.9185\n",
            "Epoch 19/50\n",
            "375/375 [==============================] - 8s 22ms/step - loss: 0.1136 - accuracy: 0.9621 - val_loss: 0.3076 - val_accuracy: 0.9195\n",
            "Epoch 20/50\n",
            "375/375 [==============================] - 8s 22ms/step - loss: 0.0995 - accuracy: 0.9660 - val_loss: 0.3048 - val_accuracy: 0.9190\n",
            "Epoch 21/50\n",
            "375/375 [==============================] - 8s 22ms/step - loss: 0.0995 - accuracy: 0.9664 - val_loss: 0.3337 - val_accuracy: 0.9153\n",
            "Epoch 22/50\n",
            "375/375 [==============================] - 8s 22ms/step - loss: 0.0989 - accuracy: 0.9685 - val_loss: 0.3581 - val_accuracy: 0.9152\n",
            "Epoch 23/50\n",
            "375/375 [==============================] - 8s 22ms/step - loss: 0.0875 - accuracy: 0.9707 - val_loss: 0.3433 - val_accuracy: 0.9220\n",
            "Epoch 24/50\n",
            "375/375 [==============================] - 8s 22ms/step - loss: 0.0759 - accuracy: 0.9734 - val_loss: 0.3614 - val_accuracy: 0.9174\n",
            "Epoch 25/50\n",
            "375/375 [==============================] - 8s 22ms/step - loss: 0.0689 - accuracy: 0.9772 - val_loss: 0.3798 - val_accuracy: 0.9187\n",
            "Epoch 26/50\n",
            "375/375 [==============================] - 8s 22ms/step - loss: 0.0796 - accuracy: 0.9737 - val_loss: 0.3962 - val_accuracy: 0.9197\n",
            "Epoch 27/50\n",
            "375/375 [==============================] - 8s 22ms/step - loss: 0.0698 - accuracy: 0.9776 - val_loss: 0.3789 - val_accuracy: 0.9170\n",
            "Epoch 28/50\n",
            "375/375 [==============================] - 8s 22ms/step - loss: 0.0743 - accuracy: 0.9768 - val_loss: 0.3834 - val_accuracy: 0.9196\n",
            "Epoch 29/50\n",
            "375/375 [==============================] - 8s 22ms/step - loss: 0.0633 - accuracy: 0.9811 - val_loss: 0.3728 - val_accuracy: 0.9189\n",
            "Epoch 30/50\n",
            "375/375 [==============================] - 8s 22ms/step - loss: 0.0580 - accuracy: 0.9811 - val_loss: 0.4512 - val_accuracy: 0.9194\n",
            "Epoch 31/50\n",
            "375/375 [==============================] - 8s 22ms/step - loss: 0.0592 - accuracy: 0.9812 - val_loss: 0.3914 - val_accuracy: 0.9237\n",
            "Epoch 32/50\n",
            "375/375 [==============================] - 8s 22ms/step - loss: 0.0558 - accuracy: 0.9829 - val_loss: 0.4839 - val_accuracy: 0.9179\n",
            "Epoch 33/50\n",
            "375/375 [==============================] - 8s 22ms/step - loss: 0.0515 - accuracy: 0.9838 - val_loss: 0.4815 - val_accuracy: 0.9203\n",
            "Epoch 34/50\n",
            "375/375 [==============================] - 8s 22ms/step - loss: 0.0468 - accuracy: 0.9850 - val_loss: 0.4505 - val_accuracy: 0.9210\n",
            "Epoch 35/50\n",
            "375/375 [==============================] - 8s 22ms/step - loss: 0.0436 - accuracy: 0.9860 - val_loss: 0.4669 - val_accuracy: 0.9187\n",
            "Epoch 36/50\n",
            "375/375 [==============================] - 8s 22ms/step - loss: 0.0493 - accuracy: 0.9839 - val_loss: 0.4943 - val_accuracy: 0.9173\n",
            "Epoch 37/50\n",
            "375/375 [==============================] - 8s 22ms/step - loss: 0.0567 - accuracy: 0.9832 - val_loss: 0.4977 - val_accuracy: 0.9200\n",
            "Epoch 38/50\n",
            "375/375 [==============================] - 8s 22ms/step - loss: 0.0525 - accuracy: 0.9831 - val_loss: 0.4719 - val_accuracy: 0.9203\n",
            "Epoch 39/50\n",
            "375/375 [==============================] - 8s 22ms/step - loss: 0.0406 - accuracy: 0.9878 - val_loss: 0.4928 - val_accuracy: 0.9188\n",
            "Epoch 40/50\n",
            "375/375 [==============================] - 8s 22ms/step - loss: 0.0429 - accuracy: 0.9868 - val_loss: 0.5246 - val_accuracy: 0.9197\n",
            "Epoch 41/50\n",
            "375/375 [==============================] - 8s 22ms/step - loss: 0.0468 - accuracy: 0.9870 - val_loss: 0.5232 - val_accuracy: 0.9178\n",
            "Epoch 42/50\n",
            "375/375 [==============================] - 8s 22ms/step - loss: 0.0470 - accuracy: 0.9861 - val_loss: 0.5493 - val_accuracy: 0.9186\n",
            "Epoch 43/50\n",
            "375/375 [==============================] - 8s 22ms/step - loss: 0.0348 - accuracy: 0.9898 - val_loss: 0.5293 - val_accuracy: 0.9204\n",
            "Epoch 44/50\n",
            "375/375 [==============================] - 8s 22ms/step - loss: 0.0404 - accuracy: 0.9870 - val_loss: 0.5879 - val_accuracy: 0.9204\n",
            "Epoch 45/50\n",
            "375/375 [==============================] - 8s 22ms/step - loss: 0.0375 - accuracy: 0.9887 - val_loss: 0.4480 - val_accuracy: 0.9203\n",
            "Epoch 46/50\n",
            "375/375 [==============================] - 8s 22ms/step - loss: 0.0354 - accuracy: 0.9890 - val_loss: 0.5748 - val_accuracy: 0.9217\n",
            "Epoch 47/50\n",
            "375/375 [==============================] - 8s 22ms/step - loss: 0.0451 - accuracy: 0.9883 - val_loss: 0.5395 - val_accuracy: 0.9183\n",
            "Epoch 48/50\n",
            "375/375 [==============================] - 8s 22ms/step - loss: 0.0434 - accuracy: 0.9866 - val_loss: 0.5556 - val_accuracy: 0.9181\n",
            "Epoch 49/50\n",
            "375/375 [==============================] - 8s 22ms/step - loss: 0.0351 - accuracy: 0.9887 - val_loss: 0.6145 - val_accuracy: 0.9237\n",
            "Epoch 50/50\n",
            "375/375 [==============================] - 8s 22ms/step - loss: 0.0339 - accuracy: 0.9907 - val_loss: 0.5870 - val_accuracy: 0.9174\n"
          ],
          "name": "stdout"
        }
      ]
    },
    {
      "cell_type": "markdown",
      "metadata": {
        "id": "Sn-YlPHhyjaQ"
      },
      "source": [
        "### Test the model with testing data\n"
      ]
    },
    {
      "cell_type": "code",
      "metadata": {
        "colab": {
          "base_uri": "https://localhost:8080/"
        },
        "id": "A0Ztc_IOhArS",
        "outputId": "aaf16814-90e5-4e9b-f36e-2ea650b6c5e1"
      },
      "source": [
        "# Test the model\n",
        "score = model.evaluate(X_test, Y_test, verbose=0)\n",
        "\n",
        "print('Test loss:', score[0])\n",
        "print('Test accuracy:', score[1])"
      ],
      "execution_count": null,
      "outputs": [
        {
          "output_type": "stream",
          "text": [
            "Test loss: 0.6488592028617859\n",
            "Test accuracy: 0.9085999727249146\n"
          ],
          "name": "stdout"
        }
      ]
    },
    {
      "cell_type": "code",
      "metadata": {
        "colab": {
          "base_uri": "https://localhost:8080/",
          "height": 350
        },
        "id": "wmVK-bO4yxGd",
        "outputId": "501159ad-5c53-466f-fdc0-39577f74f2fc"
      },
      "source": [
        "def plot_model_loss_accuracy(model):\n",
        "  history = model.history\n",
        "\n",
        "  fig, axs = plt.subplots(1,2,figsize=(15,5)) \n",
        "\n",
        "  # Model accuracy  \n",
        "  axs[0].plot(history['accuracy']) \n",
        "  axs[0].plot(history['val_accuracy']) \n",
        "  axs[0].set_title('Model Accuracy')\n",
        "  axs[0].set_ylabel('Accuracy') \n",
        "  axs[0].set_xlabel('Epoch')\n",
        "  axs[0].legend(['train', 'validate'], loc='upper left')\n",
        "  \n",
        "  # Model loss\n",
        "  axs[1].plot(history['loss']) \n",
        "  axs[1].plot(history['val_loss']) \n",
        "  axs[1].set_title('Model Loss')\n",
        "  axs[1].set_ylabel('Loss') \n",
        "  axs[1].set_xlabel('Epoch')\n",
        "  axs[1].legend(['train', 'validate'], loc='upper left')\n",
        "\n",
        "  plt.show()\n",
        "\n",
        "# Plot\n",
        "plot_model_loss_accuracy(trained_model)"
      ],
      "execution_count": null,
      "outputs": [
        {
          "output_type": "display_data",
          "data": {
            "image/png": "[encoded data removed]",
            "text/plain": [
              "<Figure size 1080x360 with 2 Axes>"
            ]
          },
          "metadata": {
            "tags": [],
            "needs_background": "light"
          }
        }
      ]
    },
    {
      "cell_type": "markdown",
      "metadata": {
        "id": "yvO1u_hK9hyt"
      },
      "source": [
        "## LeNet-5\n",
        "\n",
        "Let's now introduce one of the big game changer algorithms of the machine learning revolution LeNet-5.\n",
        "\n",
        "**LeNet-5 Architecture**\n",
        "\n",
        "The image below shows the architecutre of LeNet-5. In each convolutional block we have a convolution, sigmoid function and then average pooling function.\n",
        "\n",
        "![](https://miro.medium.com/max/2625/1*1TI1aGBZ4dybR6__DI9dzA.png)\n",
        "\n",
        "Each convolutional layer uses a $5 \\times 5$ kernel size with the sigmoid activation function. The average pooling layer uses a stride of 2 with a pool size of $2 \\times 2$, thus reducing the image dimension 4 fold for every pooling layer.\n",
        "\n",
        "The final layer in the LeNet-5 is the three layer fully connected neural network at the end.\n",
        "\n",
        "See the paper from Yann Lecun - http://yann.lecun.com/exdb/publis/pdf/lecun-98.pdf"
      ]
    },
    {
      "cell_type": "code",
      "metadata": {
        "id": "_dbwMUwc9hWm"
      },
      "source": [
        "def create_LeNet5_model():\n",
        "  model = Sequential([\n",
        "    Conv2D(6, kernel_size=(5, 5), activation='sigmoid', input_shape=[28, 28, 1], padding='same'),\n",
        "    AvgPool2D((2, 2), strides=2),\n",
        "    Conv2D(16, kernel_size=(5, 5), activation='sigmoid', padding='same'),\n",
        "    AvgPool2D((2, 2), strides=2),\n",
        "    Flatten(),\n",
        "    Dense(120, activation='sigmoid'),\n",
        "    Dense(84, activation='sigmoid'),\n",
        "    Dense(10, activation='softmax')\n",
        "  ])\n",
        "\n",
        "  return model"
      ],
      "execution_count": null,
      "outputs": []
    },
    {
      "cell_type": "code",
      "metadata": {
        "colab": {
          "base_uri": "https://localhost:8080/"
        },
        "id": "331kMNpxICuH",
        "outputId": "b75084c8-aca6-441c-9f80-3cc3b9d12e6d"
      },
      "source": [
        "LeNet5 = create_LeNet5_model()\n",
        "LeNet5.compile(loss=keras.losses.categorical_crossentropy,\n",
        "              optimizer='adam',\n",
        "              metrics=['accuracy'])\n",
        "\n",
        "# Check the model was created properly\n",
        "LeNet5.summary()"
      ],
      "execution_count": null,
      "outputs": [
        {
          "output_type": "stream",
          "text": [
            "Model: \"sequential_3\"\n",
            "_________________________________________________________________\n",
            "Layer (type)                 Output Shape              Param #   \n",
            "=================================================================\n",
            "conv2d_6 (Conv2D)            (None, 28, 28, 6)         156       \n",
            "_________________________________________________________________\n",
            "average_pooling2d_6 (Average (None, 14, 14, 6)         0         \n",
            "_________________________________________________________________\n",
            "conv2d_7 (Conv2D)            (None, 14, 14, 16)        2416      \n",
            "_________________________________________________________________\n",
            "average_pooling2d_7 (Average (None, 7, 7, 16)          0         \n",
            "_________________________________________________________________\n",
            "flatten_3 (Flatten)          (None, 784)               0         \n",
            "_________________________________________________________________\n",
            "dense_9 (Dense)              (None, 120)               94200     \n",
            "_________________________________________________________________\n",
            "dense_10 (Dense)             (None, 84)                10164     \n",
            "_________________________________________________________________\n",
            "dense_11 (Dense)             (None, 10)                850       \n",
            "=================================================================\n",
            "Total params: 107,786\n",
            "Trainable params: 107,786\n",
            "Non-trainable params: 0\n",
            "_________________________________________________________________\n"
          ],
          "name": "stdout"
        }
      ]
    },
    {
      "cell_type": "markdown",
      "metadata": {
        "id": "tgycTw-sLPAt"
      },
      "source": [
        "### Train LeNet-5\n",
        "\n",
        "Just like before let's train the LeNet-5 model with the MNIST datasets"
      ]
    },
    {
      "cell_type": "code",
      "metadata": {
        "colab": {
          "base_uri": "https://localhost:8080/"
        },
        "id": "hh74g8lcKs4z",
        "outputId": "166009c8-dc5b-48dd-9c27-d7306b795d0e"
      },
      "source": [
        "EPOCHS = 150\n",
        "\n",
        "LeNet5_trained_model = LeNet5.fit(\n",
        "    X_train,\n",
        "    Y_train,\n",
        "    validation_data = (X_val, Y_val),\n",
        "    steps_per_epoch = 10,\n",
        "    epochs = EPOCHS,\n",
        "    verbose = 1\n",
        "  )"
      ],
      "execution_count": null,
      "outputs": [
        {
          "output_type": "stream",
          "text": [
            "Epoch 1/150\n",
            "10/10 [==============================] - 1s 114ms/step - loss: 0.4333 - accuracy: 0.8443 - val_loss: 0.4416 - val_accuracy: 0.8398\n",
            "Epoch 2/150\n",
            "10/10 [==============================] - 1s 104ms/step - loss: 0.4285 - accuracy: 0.8464 - val_loss: 0.4361 - val_accuracy: 0.8452\n",
            "Epoch 3/150\n",
            "10/10 [==============================] - 1s 103ms/step - loss: 0.4244 - accuracy: 0.8472 - val_loss: 0.4335 - val_accuracy: 0.8447\n",
            "Epoch 4/150\n",
            "10/10 [==============================] - 1s 104ms/step - loss: 0.4202 - accuracy: 0.8483 - val_loss: 0.4289 - val_accuracy: 0.8448\n",
            "Epoch 5/150\n",
            "10/10 [==============================] - 1s 108ms/step - loss: 0.4165 - accuracy: 0.8499 - val_loss: 0.4257 - val_accuracy: 0.8472\n",
            "Epoch 6/150\n",
            "10/10 [==============================] - 1s 107ms/step - loss: 0.4125 - accuracy: 0.8511 - val_loss: 0.4216 - val_accuracy: 0.8482\n",
            "Epoch 7/150\n",
            "10/10 [==============================] - 1s 104ms/step - loss: 0.4087 - accuracy: 0.8524 - val_loss: 0.4175 - val_accuracy: 0.8500\n",
            "Epoch 8/150\n",
            "10/10 [==============================] - 1s 105ms/step - loss: 0.4054 - accuracy: 0.8539 - val_loss: 0.4157 - val_accuracy: 0.8503\n",
            "Epoch 9/150\n",
            "10/10 [==============================] - 1s 107ms/step - loss: 0.4018 - accuracy: 0.8552 - val_loss: 0.4106 - val_accuracy: 0.8525\n",
            "Epoch 10/150\n",
            "10/10 [==============================] - 1s 105ms/step - loss: 0.3990 - accuracy: 0.8554 - val_loss: 0.4100 - val_accuracy: 0.8510\n",
            "Epoch 11/150\n",
            "10/10 [==============================] - 1s 104ms/step - loss: 0.3967 - accuracy: 0.8566 - val_loss: 0.4059 - val_accuracy: 0.8563\n",
            "Epoch 12/150\n",
            "10/10 [==============================] - 1s 105ms/step - loss: 0.3937 - accuracy: 0.8584 - val_loss: 0.4032 - val_accuracy: 0.8555\n",
            "Epoch 13/150\n",
            "10/10 [==============================] - 1s 103ms/step - loss: 0.3907 - accuracy: 0.8582 - val_loss: 0.3992 - val_accuracy: 0.8588\n",
            "Epoch 14/150\n",
            "10/10 [==============================] - 1s 104ms/step - loss: 0.3883 - accuracy: 0.8592 - val_loss: 0.3980 - val_accuracy: 0.8558\n",
            "Epoch 15/150\n",
            "10/10 [==============================] - 1s 104ms/step - loss: 0.3840 - accuracy: 0.8608 - val_loss: 0.3962 - val_accuracy: 0.8578\n",
            "Epoch 16/150\n",
            "10/10 [==============================] - 1s 103ms/step - loss: 0.3818 - accuracy: 0.8609 - val_loss: 0.3925 - val_accuracy: 0.8592\n",
            "Epoch 17/150\n",
            "10/10 [==============================] - 1s 104ms/step - loss: 0.3784 - accuracy: 0.8636 - val_loss: 0.3888 - val_accuracy: 0.8604\n",
            "Epoch 18/150\n",
            "10/10 [==============================] - 1s 107ms/step - loss: 0.3764 - accuracy: 0.8641 - val_loss: 0.3870 - val_accuracy: 0.8622\n",
            "Epoch 19/150\n",
            "10/10 [==============================] - 1s 105ms/step - loss: 0.3731 - accuracy: 0.8645 - val_loss: 0.3860 - val_accuracy: 0.8600\n",
            "Epoch 20/150\n",
            "10/10 [==============================] - 1s 107ms/step - loss: 0.3710 - accuracy: 0.8659 - val_loss: 0.3826 - val_accuracy: 0.8610\n",
            "Epoch 21/150\n",
            "10/10 [==============================] - 1s 106ms/step - loss: 0.3699 - accuracy: 0.8651 - val_loss: 0.3801 - val_accuracy: 0.8612\n",
            "Epoch 22/150\n",
            "10/10 [==============================] - 1s 104ms/step - loss: 0.3666 - accuracy: 0.8672 - val_loss: 0.3781 - val_accuracy: 0.8619\n",
            "Epoch 23/150\n",
            "10/10 [==============================] - 1s 105ms/step - loss: 0.3641 - accuracy: 0.8679 - val_loss: 0.3789 - val_accuracy: 0.8634\n",
            "Epoch 24/150\n",
            "10/10 [==============================] - 1s 103ms/step - loss: 0.3632 - accuracy: 0.8679 - val_loss: 0.3744 - val_accuracy: 0.8646\n",
            "Epoch 25/150\n",
            "10/10 [==============================] - 1s 105ms/step - loss: 0.3604 - accuracy: 0.8699 - val_loss: 0.3720 - val_accuracy: 0.8668\n",
            "Epoch 26/150\n",
            "10/10 [==============================] - 1s 103ms/step - loss: 0.3581 - accuracy: 0.8711 - val_loss: 0.3732 - val_accuracy: 0.8634\n",
            "Epoch 27/150\n",
            "10/10 [==============================] - 1s 106ms/step - loss: 0.3583 - accuracy: 0.8698 - val_loss: 0.3675 - val_accuracy: 0.8666\n",
            "Epoch 28/150\n",
            "10/10 [==============================] - 1s 105ms/step - loss: 0.3527 - accuracy: 0.8715 - val_loss: 0.3638 - val_accuracy: 0.8682\n",
            "Epoch 29/150\n",
            "10/10 [==============================] - 1s 105ms/step - loss: 0.3506 - accuracy: 0.8733 - val_loss: 0.3629 - val_accuracy: 0.8684\n",
            "Epoch 30/150\n",
            "10/10 [==============================] - 1s 106ms/step - loss: 0.3486 - accuracy: 0.8739 - val_loss: 0.3610 - val_accuracy: 0.8702\n",
            "Epoch 31/150\n",
            "10/10 [==============================] - 1s 104ms/step - loss: 0.3479 - accuracy: 0.8745 - val_loss: 0.3595 - val_accuracy: 0.8700\n",
            "Epoch 32/150\n",
            "10/10 [==============================] - 1s 104ms/step - loss: 0.3458 - accuracy: 0.8752 - val_loss: 0.3563 - val_accuracy: 0.8717\n",
            "Epoch 33/150\n",
            "10/10 [==============================] - 1s 103ms/step - loss: 0.3429 - accuracy: 0.8754 - val_loss: 0.3548 - val_accuracy: 0.8732\n",
            "Epoch 34/150\n",
            "10/10 [==============================] - 1s 103ms/step - loss: 0.3422 - accuracy: 0.8761 - val_loss: 0.3548 - val_accuracy: 0.8729\n",
            "Epoch 35/150\n",
            "10/10 [==============================] - 1s 105ms/step - loss: 0.3420 - accuracy: 0.8759 - val_loss: 0.3581 - val_accuracy: 0.8702\n",
            "Epoch 36/150\n",
            "10/10 [==============================] - 1s 104ms/step - loss: 0.3397 - accuracy: 0.8778 - val_loss: 0.3527 - val_accuracy: 0.8719\n",
            "Epoch 37/150\n",
            "10/10 [==============================] - 1s 105ms/step - loss: 0.3364 - accuracy: 0.8783 - val_loss: 0.3492 - val_accuracy: 0.8724\n",
            "Epoch 38/150\n",
            "10/10 [==============================] - 1s 105ms/step - loss: 0.3351 - accuracy: 0.8790 - val_loss: 0.3483 - val_accuracy: 0.8730\n",
            "Epoch 39/150\n",
            "10/10 [==============================] - 1s 106ms/step - loss: 0.3336 - accuracy: 0.8798 - val_loss: 0.3458 - val_accuracy: 0.8733\n",
            "Epoch 40/150\n",
            "10/10 [==============================] - 1s 105ms/step - loss: 0.3323 - accuracy: 0.8804 - val_loss: 0.3447 - val_accuracy: 0.8742\n",
            "Epoch 41/150\n",
            "10/10 [==============================] - 1s 106ms/step - loss: 0.3304 - accuracy: 0.8813 - val_loss: 0.3427 - val_accuracy: 0.8741\n",
            "Epoch 42/150\n",
            "10/10 [==============================] - 1s 105ms/step - loss: 0.3277 - accuracy: 0.8819 - val_loss: 0.3446 - val_accuracy: 0.8740\n",
            "Epoch 43/150\n",
            "10/10 [==============================] - 1s 107ms/step - loss: 0.3280 - accuracy: 0.8824 - val_loss: 0.3412 - val_accuracy: 0.8749\n",
            "Epoch 44/150\n",
            "10/10 [==============================] - 1s 106ms/step - loss: 0.3255 - accuracy: 0.8824 - val_loss: 0.3400 - val_accuracy: 0.8752\n",
            "Epoch 45/150\n",
            "10/10 [==============================] - 1s 104ms/step - loss: 0.3243 - accuracy: 0.8824 - val_loss: 0.3366 - val_accuracy: 0.8768\n",
            "Epoch 46/150\n",
            "10/10 [==============================] - 1s 105ms/step - loss: 0.3224 - accuracy: 0.8839 - val_loss: 0.3397 - val_accuracy: 0.8750\n",
            "Epoch 47/150\n",
            "10/10 [==============================] - 1s 106ms/step - loss: 0.3215 - accuracy: 0.8848 - val_loss: 0.3336 - val_accuracy: 0.8779\n",
            "Epoch 48/150\n",
            "10/10 [==============================] - 1s 106ms/step - loss: 0.3191 - accuracy: 0.8851 - val_loss: 0.3333 - val_accuracy: 0.8780\n",
            "Epoch 49/150\n",
            "10/10 [==============================] - 1s 106ms/step - loss: 0.3176 - accuracy: 0.8858 - val_loss: 0.3328 - val_accuracy: 0.8780\n",
            "Epoch 50/150\n",
            "10/10 [==============================] - 1s 107ms/step - loss: 0.3172 - accuracy: 0.8862 - val_loss: 0.3318 - val_accuracy: 0.8765\n",
            "Epoch 51/150\n",
            "10/10 [==============================] - 1s 106ms/step - loss: 0.3151 - accuracy: 0.8869 - val_loss: 0.3300 - val_accuracy: 0.8790\n",
            "Epoch 52/150\n",
            "10/10 [==============================] - 1s 106ms/step - loss: 0.3132 - accuracy: 0.8875 - val_loss: 0.3283 - val_accuracy: 0.8793\n",
            "Epoch 53/150\n",
            "10/10 [==============================] - 1s 111ms/step - loss: 0.3122 - accuracy: 0.8873 - val_loss: 0.3294 - val_accuracy: 0.8790\n",
            "Epoch 54/150\n",
            "10/10 [==============================] - 1s 114ms/step - loss: 0.3114 - accuracy: 0.8880 - val_loss: 0.3288 - val_accuracy: 0.8784\n",
            "Epoch 55/150\n",
            "10/10 [==============================] - 1s 104ms/step - loss: 0.3104 - accuracy: 0.8885 - val_loss: 0.3250 - val_accuracy: 0.8792\n",
            "Epoch 56/150\n",
            "10/10 [==============================] - 1s 105ms/step - loss: 0.3093 - accuracy: 0.8881 - val_loss: 0.3231 - val_accuracy: 0.8811\n",
            "Epoch 57/150\n",
            "10/10 [==============================] - 1s 105ms/step - loss: 0.3064 - accuracy: 0.8901 - val_loss: 0.3213 - val_accuracy: 0.8820\n",
            "Epoch 58/150\n",
            "10/10 [==============================] - 1s 105ms/step - loss: 0.3048 - accuracy: 0.8906 - val_loss: 0.3221 - val_accuracy: 0.8813\n",
            "Epoch 59/150\n",
            "10/10 [==============================] - 1s 105ms/step - loss: 0.3053 - accuracy: 0.8904 - val_loss: 0.3199 - val_accuracy: 0.8834\n",
            "Epoch 60/150\n",
            "10/10 [==============================] - 1s 105ms/step - loss: 0.3027 - accuracy: 0.8911 - val_loss: 0.3215 - val_accuracy: 0.8825\n",
            "Epoch 61/150\n",
            "10/10 [==============================] - 1s 105ms/step - loss: 0.3028 - accuracy: 0.8911 - val_loss: 0.3216 - val_accuracy: 0.8837\n",
            "Epoch 62/150\n",
            "10/10 [==============================] - 1s 104ms/step - loss: 0.3037 - accuracy: 0.8902 - val_loss: 0.3198 - val_accuracy: 0.8824\n",
            "Epoch 63/150\n",
            "10/10 [==============================] - 1s 105ms/step - loss: 0.3017 - accuracy: 0.8903 - val_loss: 0.3164 - val_accuracy: 0.8842\n",
            "Epoch 64/150\n",
            "10/10 [==============================] - 1s 104ms/step - loss: 0.2988 - accuracy: 0.8920 - val_loss: 0.3157 - val_accuracy: 0.8839\n",
            "Epoch 65/150\n",
            "10/10 [==============================] - 1s 104ms/step - loss: 0.2974 - accuracy: 0.8934 - val_loss: 0.3155 - val_accuracy: 0.8834\n",
            "Epoch 66/150\n",
            "10/10 [==============================] - 1s 105ms/step - loss: 0.2963 - accuracy: 0.8935 - val_loss: 0.3143 - val_accuracy: 0.8838\n",
            "Epoch 67/150\n",
            "10/10 [==============================] - 1s 104ms/step - loss: 0.2962 - accuracy: 0.8941 - val_loss: 0.3132 - val_accuracy: 0.8852\n",
            "Epoch 68/150\n",
            "10/10 [==============================] - 1s 103ms/step - loss: 0.2945 - accuracy: 0.8936 - val_loss: 0.3120 - val_accuracy: 0.8851\n",
            "Epoch 69/150\n",
            "10/10 [==============================] - 1s 106ms/step - loss: 0.2926 - accuracy: 0.8950 - val_loss: 0.3096 - val_accuracy: 0.8869\n",
            "Epoch 70/150\n",
            "10/10 [==============================] - 1s 105ms/step - loss: 0.2917 - accuracy: 0.8954 - val_loss: 0.3109 - val_accuracy: 0.8862\n",
            "Epoch 71/150\n",
            "10/10 [==============================] - 1s 106ms/step - loss: 0.2911 - accuracy: 0.8953 - val_loss: 0.3081 - val_accuracy: 0.8868\n",
            "Epoch 72/150\n",
            "10/10 [==============================] - 1s 105ms/step - loss: 0.2896 - accuracy: 0.8955 - val_loss: 0.3068 - val_accuracy: 0.8877\n",
            "Epoch 73/150\n",
            "10/10 [==============================] - 1s 107ms/step - loss: 0.2889 - accuracy: 0.8960 - val_loss: 0.3120 - val_accuracy: 0.8839\n",
            "Epoch 74/150\n",
            "10/10 [==============================] - 1s 106ms/step - loss: 0.2888 - accuracy: 0.8956 - val_loss: 0.3075 - val_accuracy: 0.8880\n",
            "Epoch 75/150\n",
            "10/10 [==============================] - 1s 105ms/step - loss: 0.2875 - accuracy: 0.8961 - val_loss: 0.3072 - val_accuracy: 0.8876\n",
            "Epoch 76/150\n",
            "10/10 [==============================] - 1s 104ms/step - loss: 0.2872 - accuracy: 0.8958 - val_loss: 0.3085 - val_accuracy: 0.8879\n",
            "Epoch 77/150\n",
            "10/10 [==============================] - 1s 104ms/step - loss: 0.2868 - accuracy: 0.8961 - val_loss: 0.3058 - val_accuracy: 0.8878\n",
            "Epoch 78/150\n",
            "10/10 [==============================] - 1s 105ms/step - loss: 0.2849 - accuracy: 0.8965 - val_loss: 0.3028 - val_accuracy: 0.8877\n",
            "Epoch 79/150\n",
            "10/10 [==============================] - 1s 105ms/step - loss: 0.2824 - accuracy: 0.8985 - val_loss: 0.3021 - val_accuracy: 0.8888\n",
            "Epoch 80/150\n",
            "10/10 [==============================] - 1s 105ms/step - loss: 0.2819 - accuracy: 0.8985 - val_loss: 0.3047 - val_accuracy: 0.8857\n",
            "Epoch 81/150\n",
            "10/10 [==============================] - 1s 106ms/step - loss: 0.2846 - accuracy: 0.8974 - val_loss: 0.3066 - val_accuracy: 0.8872\n",
            "Epoch 82/150\n",
            "10/10 [==============================] - 1s 105ms/step - loss: 0.2828 - accuracy: 0.8983 - val_loss: 0.2994 - val_accuracy: 0.8897\n",
            "Epoch 83/150\n",
            "10/10 [==============================] - 1s 107ms/step - loss: 0.2782 - accuracy: 0.8999 - val_loss: 0.2993 - val_accuracy: 0.8885\n",
            "Epoch 84/150\n",
            "10/10 [==============================] - 1s 106ms/step - loss: 0.2777 - accuracy: 0.9005 - val_loss: 0.2995 - val_accuracy: 0.8894\n",
            "Epoch 85/150\n",
            "10/10 [==============================] - 1s 103ms/step - loss: 0.2784 - accuracy: 0.8997 - val_loss: 0.2987 - val_accuracy: 0.8899\n",
            "Epoch 86/150\n",
            "10/10 [==============================] - 1s 104ms/step - loss: 0.2761 - accuracy: 0.9005 - val_loss: 0.2981 - val_accuracy: 0.8917\n",
            "Epoch 87/150\n",
            "10/10 [==============================] - 1s 108ms/step - loss: 0.2756 - accuracy: 0.9015 - val_loss: 0.2979 - val_accuracy: 0.8917\n",
            "Epoch 88/150\n",
            "10/10 [==============================] - 1s 106ms/step - loss: 0.2746 - accuracy: 0.9012 - val_loss: 0.2999 - val_accuracy: 0.8902\n",
            "Epoch 89/150\n",
            "10/10 [==============================] - 1s 106ms/step - loss: 0.2758 - accuracy: 0.9003 - val_loss: 0.2997 - val_accuracy: 0.8885\n",
            "Epoch 90/150\n",
            "10/10 [==============================] - 1s 104ms/step - loss: 0.2743 - accuracy: 0.9014 - val_loss: 0.2958 - val_accuracy: 0.8910\n",
            "Epoch 91/150\n",
            "10/10 [==============================] - 1s 104ms/step - loss: 0.2717 - accuracy: 0.9019 - val_loss: 0.2967 - val_accuracy: 0.8923\n",
            "Epoch 92/150\n",
            "10/10 [==============================] - 1s 104ms/step - loss: 0.2714 - accuracy: 0.9021 - val_loss: 0.2971 - val_accuracy: 0.8915\n",
            "Epoch 93/150\n",
            "10/10 [==============================] - 1s 103ms/step - loss: 0.2720 - accuracy: 0.9011 - val_loss: 0.2943 - val_accuracy: 0.8913\n",
            "Epoch 94/150\n",
            "10/10 [==============================] - 1s 104ms/step - loss: 0.2715 - accuracy: 0.9024 - val_loss: 0.2929 - val_accuracy: 0.8917\n",
            "Epoch 95/150\n",
            "10/10 [==============================] - 1s 103ms/step - loss: 0.2690 - accuracy: 0.9042 - val_loss: 0.2942 - val_accuracy: 0.8915\n",
            "Epoch 96/150\n",
            "10/10 [==============================] - 1s 105ms/step - loss: 0.2699 - accuracy: 0.9028 - val_loss: 0.3015 - val_accuracy: 0.8910\n",
            "Epoch 97/150\n",
            "10/10 [==============================] - 1s 103ms/step - loss: 0.2711 - accuracy: 0.9026 - val_loss: 0.2909 - val_accuracy: 0.8923\n",
            "Epoch 98/150\n",
            "10/10 [==============================] - 1s 104ms/step - loss: 0.2680 - accuracy: 0.9039 - val_loss: 0.2937 - val_accuracy: 0.8911\n",
            "Epoch 99/150\n",
            "10/10 [==============================] - 1s 106ms/step - loss: 0.2673 - accuracy: 0.9035 - val_loss: 0.2909 - val_accuracy: 0.8938\n",
            "Epoch 100/150\n",
            "10/10 [==============================] - 1s 105ms/step - loss: 0.2650 - accuracy: 0.9047 - val_loss: 0.2886 - val_accuracy: 0.8939\n",
            "Epoch 101/150\n",
            "10/10 [==============================] - 1s 105ms/step - loss: 0.2639 - accuracy: 0.9050 - val_loss: 0.2910 - val_accuracy: 0.8918\n",
            "Epoch 102/150\n",
            "10/10 [==============================] - 1s 104ms/step - loss: 0.2643 - accuracy: 0.9048 - val_loss: 0.2891 - val_accuracy: 0.8932\n",
            "Epoch 103/150\n",
            "10/10 [==============================] - 1s 103ms/step - loss: 0.2638 - accuracy: 0.9058 - val_loss: 0.2915 - val_accuracy: 0.8930\n",
            "Epoch 104/150\n",
            "10/10 [==============================] - 1s 105ms/step - loss: 0.2630 - accuracy: 0.9061 - val_loss: 0.2897 - val_accuracy: 0.8927\n",
            "Epoch 105/150\n",
            "10/10 [==============================] - 1s 105ms/step - loss: 0.2620 - accuracy: 0.9056 - val_loss: 0.2863 - val_accuracy: 0.8959\n",
            "Epoch 106/150\n",
            "10/10 [==============================] - 1s 104ms/step - loss: 0.2597 - accuracy: 0.9067 - val_loss: 0.2877 - val_accuracy: 0.8937\n",
            "Epoch 107/150\n",
            "10/10 [==============================] - 1s 105ms/step - loss: 0.2598 - accuracy: 0.9064 - val_loss: 0.2853 - val_accuracy: 0.8951\n",
            "Epoch 108/150\n",
            "10/10 [==============================] - 1s 105ms/step - loss: 0.2604 - accuracy: 0.9068 - val_loss: 0.2902 - val_accuracy: 0.8938\n",
            "Epoch 109/150\n",
            "10/10 [==============================] - 1s 104ms/step - loss: 0.2606 - accuracy: 0.9055 - val_loss: 0.2865 - val_accuracy: 0.8955\n",
            "Epoch 110/150\n",
            "10/10 [==============================] - 1s 105ms/step - loss: 0.2586 - accuracy: 0.9071 - val_loss: 0.2843 - val_accuracy: 0.8957\n",
            "Epoch 111/150\n",
            "10/10 [==============================] - 1s 112ms/step - loss: 0.2580 - accuracy: 0.9073 - val_loss: 0.2899 - val_accuracy: 0.8921\n",
            "Epoch 112/150\n",
            "10/10 [==============================] - 1s 104ms/step - loss: 0.2595 - accuracy: 0.9075 - val_loss: 0.2902 - val_accuracy: 0.8937\n",
            "Epoch 113/150\n",
            "10/10 [==============================] - 1s 105ms/step - loss: 0.2580 - accuracy: 0.9068 - val_loss: 0.2877 - val_accuracy: 0.8944\n",
            "Epoch 114/150\n",
            "10/10 [==============================] - 1s 103ms/step - loss: 0.2576 - accuracy: 0.9068 - val_loss: 0.2853 - val_accuracy: 0.8962\n",
            "Epoch 115/150\n",
            "10/10 [==============================] - 1s 108ms/step - loss: 0.2556 - accuracy: 0.9082 - val_loss: 0.2830 - val_accuracy: 0.8956\n",
            "Epoch 116/150\n",
            "10/10 [==============================] - 1s 105ms/step - loss: 0.2544 - accuracy: 0.9086 - val_loss: 0.2828 - val_accuracy: 0.8965\n",
            "Epoch 117/150\n",
            "10/10 [==============================] - 1s 103ms/step - loss: 0.2549 - accuracy: 0.9080 - val_loss: 0.2826 - val_accuracy: 0.8954\n",
            "Epoch 118/150\n",
            "10/10 [==============================] - 1s 109ms/step - loss: 0.2549 - accuracy: 0.9081 - val_loss: 0.2824 - val_accuracy: 0.8955\n",
            "Epoch 119/150\n",
            "10/10 [==============================] - 1s 106ms/step - loss: 0.2537 - accuracy: 0.9080 - val_loss: 0.2818 - val_accuracy: 0.8943\n",
            "Epoch 120/150\n",
            "10/10 [==============================] - 1s 108ms/step - loss: 0.2557 - accuracy: 0.9079 - val_loss: 0.2823 - val_accuracy: 0.8978\n",
            "Epoch 121/150\n",
            "10/10 [==============================] - 1s 109ms/step - loss: 0.2533 - accuracy: 0.9087 - val_loss: 0.2794 - val_accuracy: 0.8979\n",
            "Epoch 122/150\n",
            "10/10 [==============================] - 1s 106ms/step - loss: 0.2517 - accuracy: 0.9091 - val_loss: 0.2812 - val_accuracy: 0.8966\n",
            "Epoch 123/150\n",
            "10/10 [==============================] - 1s 107ms/step - loss: 0.2529 - accuracy: 0.9083 - val_loss: 0.2824 - val_accuracy: 0.8962\n",
            "Epoch 124/150\n",
            "10/10 [==============================] - 1s 108ms/step - loss: 0.2530 - accuracy: 0.9083 - val_loss: 0.2815 - val_accuracy: 0.8957\n",
            "Epoch 125/150\n",
            "10/10 [==============================] - 1s 112ms/step - loss: 0.2495 - accuracy: 0.9107 - val_loss: 0.2841 - val_accuracy: 0.8959\n",
            "Epoch 126/150\n",
            "10/10 [==============================] - 1s 106ms/step - loss: 0.2491 - accuracy: 0.9102 - val_loss: 0.2808 - val_accuracy: 0.8962\n",
            "Epoch 127/150\n",
            "10/10 [==============================] - 1s 107ms/step - loss: 0.2505 - accuracy: 0.9096 - val_loss: 0.2767 - val_accuracy: 0.8986\n",
            "Epoch 128/150\n",
            "10/10 [==============================] - 1s 106ms/step - loss: 0.2500 - accuracy: 0.9088 - val_loss: 0.2838 - val_accuracy: 0.8960\n",
            "Epoch 129/150\n",
            "10/10 [==============================] - 1s 105ms/step - loss: 0.2480 - accuracy: 0.9109 - val_loss: 0.2775 - val_accuracy: 0.8990\n",
            "Epoch 130/150\n",
            "10/10 [==============================] - 1s 103ms/step - loss: 0.2466 - accuracy: 0.9117 - val_loss: 0.2784 - val_accuracy: 0.8978\n",
            "Epoch 131/150\n",
            "10/10 [==============================] - 1s 102ms/step - loss: 0.2458 - accuracy: 0.9120 - val_loss: 0.2770 - val_accuracy: 0.8991\n",
            "Epoch 132/150\n",
            "10/10 [==============================] - 1s 105ms/step - loss: 0.2442 - accuracy: 0.9117 - val_loss: 0.2765 - val_accuracy: 0.8984\n",
            "Epoch 133/150\n",
            "10/10 [==============================] - 1s 104ms/step - loss: 0.2437 - accuracy: 0.9125 - val_loss: 0.2755 - val_accuracy: 0.8992\n",
            "Epoch 134/150\n",
            "10/10 [==============================] - 1s 106ms/step - loss: 0.2435 - accuracy: 0.9119 - val_loss: 0.2761 - val_accuracy: 0.8980\n",
            "Epoch 135/150\n",
            "10/10 [==============================] - 1s 104ms/step - loss: 0.2433 - accuracy: 0.9134 - val_loss: 0.2750 - val_accuracy: 0.8992\n",
            "Epoch 136/150\n",
            "10/10 [==============================] - 1s 104ms/step - loss: 0.2439 - accuracy: 0.9120 - val_loss: 0.2785 - val_accuracy: 0.8972\n",
            "Epoch 137/150\n",
            "10/10 [==============================] - 1s 104ms/step - loss: 0.2423 - accuracy: 0.9132 - val_loss: 0.2756 - val_accuracy: 0.8992\n",
            "Epoch 138/150\n",
            "10/10 [==============================] - 1s 103ms/step - loss: 0.2425 - accuracy: 0.9128 - val_loss: 0.2757 - val_accuracy: 0.8990\n",
            "Epoch 139/150\n",
            "10/10 [==============================] - 1s 105ms/step - loss: 0.2413 - accuracy: 0.9125 - val_loss: 0.2737 - val_accuracy: 0.9008\n",
            "Epoch 140/150\n",
            "10/10 [==============================] - 1s 104ms/step - loss: 0.2422 - accuracy: 0.9133 - val_loss: 0.2770 - val_accuracy: 0.8992\n",
            "Epoch 141/150\n",
            "10/10 [==============================] - 1s 106ms/step - loss: 0.2424 - accuracy: 0.9126 - val_loss: 0.2772 - val_accuracy: 0.8975\n",
            "Epoch 142/150\n",
            "10/10 [==============================] - 1s 105ms/step - loss: 0.2412 - accuracy: 0.9132 - val_loss: 0.2737 - val_accuracy: 0.9001\n",
            "Epoch 143/150\n",
            "10/10 [==============================] - 1s 105ms/step - loss: 0.2393 - accuracy: 0.9146 - val_loss: 0.2712 - val_accuracy: 0.9007\n",
            "Epoch 144/150\n",
            "10/10 [==============================] - 1s 104ms/step - loss: 0.2384 - accuracy: 0.9142 - val_loss: 0.2730 - val_accuracy: 0.9012\n",
            "Epoch 145/150\n",
            "10/10 [==============================] - 1s 105ms/step - loss: 0.2384 - accuracy: 0.9139 - val_loss: 0.2731 - val_accuracy: 0.8988\n",
            "Epoch 146/150\n",
            "10/10 [==============================] - 1s 106ms/step - loss: 0.2376 - accuracy: 0.9141 - val_loss: 0.2730 - val_accuracy: 0.8988\n",
            "Epoch 147/150\n",
            "10/10 [==============================] - 1s 104ms/step - loss: 0.2397 - accuracy: 0.9136 - val_loss: 0.2730 - val_accuracy: 0.8992\n",
            "Epoch 148/150\n",
            "10/10 [==============================] - 1s 106ms/step - loss: 0.2377 - accuracy: 0.9139 - val_loss: 0.2719 - val_accuracy: 0.8992\n",
            "Epoch 149/150\n",
            "10/10 [==============================] - 1s 106ms/step - loss: 0.2367 - accuracy: 0.9140 - val_loss: 0.2721 - val_accuracy: 0.8998\n",
            "Epoch 150/150\n",
            "10/10 [==============================] - 1s 104ms/step - loss: 0.2351 - accuracy: 0.9147 - val_loss: 0.2699 - val_accuracy: 0.9013\n"
          ],
          "name": "stdout"
        }
      ]
    },
    {
      "cell_type": "markdown",
      "metadata": {
        "id": "opHRXgQvNjfM"
      },
      "source": [
        "### Test LeNet-5\n"
      ]
    },
    {
      "cell_type": "code",
      "metadata": {
        "colab": {
          "base_uri": "https://localhost:8080/"
        },
        "id": "xoW5Nm4zLZHv",
        "outputId": "71c0f540-cd97-471a-852e-be6ec79f0dd7"
      },
      "source": [
        "# Test the model\n",
        "score = LeNet5.evaluate(X_test, Y_test, verbose=0)\n",
        "\n",
        "print('Test loss:', score[0])\n",
        "print('Test accuracy:', score[1])"
      ],
      "execution_count": null,
      "outputs": [
        {
          "output_type": "stream",
          "text": [
            "Test loss: 0.2838577628135681\n",
            "Test accuracy: 0.8968999981880188\n"
          ],
          "name": "stdout"
        }
      ]
    },
    {
      "cell_type": "code",
      "metadata": {
        "colab": {
          "base_uri": "https://localhost:8080/",
          "height": 350
        },
        "id": "5bMgvViMNrHp",
        "outputId": "b707c0f0-d6d1-4676-b6f9-0bdcacef24ce"
      },
      "source": [
        "plot_model_loss_accuracy(LeNet5_trained_model)"
      ],
      "execution_count": null,
      "outputs": [
        {
          "output_type": "display_data",
          "data": {
            "image/png": "[encoded data removed]",
            "text/plain": [
              "<Figure size 1080x360 with 2 Axes>"
            ]
          },
          "metadata": {
            "tags": [],
            "needs_background": "light"
          }
        }
      ]
    },
    {
      "cell_type": "code",
      "metadata": {
        "id": "RSkCTNkeOJ4J"
      },
      "source": [
        ""
      ],
      "execution_count": null,
      "outputs": []
    }
  ]
}